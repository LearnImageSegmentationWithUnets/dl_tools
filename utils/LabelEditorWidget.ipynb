{
 "cells": [
  {
   "cell_type": "code",
   "execution_count": 1,
   "metadata": {},
   "outputs": [],
   "source": [
    "import matplotlib as mpl\n",
    "from ipywidgets import widgets"
   ]
  },
  {
   "cell_type": "code",
   "execution_count": 2,
   "metadata": {},
   "outputs": [],
   "source": [
    "def make_colorpicker(color):\n",
    "    return widgets.ColorPicker(\n",
    "        concise=False,\n",
    "        description='Pick a color',\n",
    "        value=color,\n",
    "        disabled=False\n",
    "    )"
   ]
  },
  {
   "cell_type": "code",
   "execution_count": 3,
   "metadata": {},
   "outputs": [],
   "source": [
    "def make_label(label):\n",
    "    return widgets.Text(\n",
    "    value=label,\n",
    "    placeholder='Type something',\n",
    "    description='Class:',\n",
    "    disabled=False\n",
    "    )"
   ]
  },
  {
   "cell_type": "code",
   "execution_count": 4,
   "metadata": {},
   "outputs": [],
   "source": [
    "\n",
    "cc = mpl.colors.ColorConverter()"
   ]
  },
  {
   "cell_type": "code",
   "execution_count": 5,
   "metadata": {},
   "outputs": [],
   "source": [
    "label_fname = r\"C:\\projects\\dl_tools\\demo_data\\geotiff\\elwha\\labels.txt\"\n",
    "colors_fname = r\"C:\\projects\\dl_tools\\demo_data\\geotiff\\elwha\\label_colors.txt\""
   ]
  },
  {
   "cell_type": "code",
   "execution_count": 6,
   "metadata": {},
   "outputs": [],
   "source": [
    "from pathlib import Path\n",
    "labels = Path(label_fname).read_bytes().split()\n",
    "colors = Path(colors_fname).read_bytes().split()"
   ]
  },
  {
   "cell_type": "code",
   "execution_count": 7,
   "metadata": {},
   "outputs": [],
   "source": [
    "labels_file = widgets.Text(\n",
    "    value=label_fname,\n",
    "    placeholder='Type something',\n",
    "    description='Labels file:',\n",
    "    disabled=False\n",
    "    )\n",
    "\n",
    "colors_file = widgets.Text(\n",
    "    value=colors_fname,\n",
    "    placeholder='Type something',\n",
    "    description='Colors file:',\n",
    "    disabled=False\n",
    "    )\n",
    "\n",
    "files_widget = widgets.HBox([labels_file, colors_file])"
   ]
  },
  {
   "cell_type": "code",
   "execution_count": 8,
   "metadata": {},
   "outputs": [],
   "source": [
    "items = []\n",
    "for label, color in zip(labels, colors):\n",
    "    label_text = make_label(label)\n",
    "    color_picker = make_colorpicker(mpl.colors.to_hex(cc.to_rgb(color.decode(\"utf-8\"))))\n",
    "    item = widgets.HBox([label_text, color_picker])\n",
    "    \n",
    "    items.append(item)"
   ]
  },
  {
   "cell_type": "code",
   "execution_count": 9,
   "metadata": {},
   "outputs": [],
   "source": [
    "save_btn = widgets.Button(\n",
    "    description='Save to Files',\n",
    "    disabled=False,\n",
    "    button_style='success', # 'success', 'info', 'warning', 'danger' or ''\n",
    "    tooltip='Description',\n",
    "    icon='save'\n",
    ")\n",
    "\n",
    "def save_one(b):\n",
    "    label_fname = files_widget.children[0].value\n",
    "    color_fname = files_widget.children[1].value\n",
    "\n",
    "    label_f = open(label_fname, 'w')\n",
    "    color_f = open(color_fname, 'w')\n",
    "\n",
    "    labels = [item.children[0].value for item in labels_widget.children[:]]\n",
    "    colors = [item.children[1].value for item in labels_widget.children[:]]\n",
    "\n",
    "    label_f.write('\\n'.join(labels))\n",
    "    color_f.write('\\n'.join(colors))\n",
    "\n",
    "    label_f.close()\n",
    "    color_f.close()\n",
    "                 \n",
    "save_btn.on_click(save_one)\n",
    "\n"
   ]
  },
  {
   "cell_type": "code",
   "execution_count": 10,
   "metadata": {},
   "outputs": [
    {
     "data": {
      "application/vnd.jupyter.widget-view+json": {
       "model_id": "66ed0dad700d478ea15997b2db1ccbaf",
       "version_major": 2,
       "version_minor": 0
      },
      "text/plain": [
       "Button(button_style='info', description='Add Class', icon='plus', style=ButtonStyle(), tooltip='Description')"
      ]
     },
     "metadata": {},
     "output_type": "display_data"
    }
   ],
   "source": [
    "add_btn = widgets.Button(\n",
    "    description='Add Class',\n",
    "    disabled=False,\n",
    "    button_style='info', # 'success', 'info', 'warning', 'danger' or ''\n",
    "    tooltip='Description',\n",
    "    icon='plus'\n",
    ")\n",
    "\n",
    "def add_one(b):\n",
    "    new_label = make_label('new class...')\n",
    "    new_color = make_colorpicker('red') \n",
    "    new_item = widgets.HBox([new_label, new_color])\n",
    "\n",
    "    labels_widget.children += (new_item, ) \n",
    "        \n",
    "add_btn.on_click(add_one)\n",
    "add_btn"
   ]
  },
  {
   "cell_type": "code",
   "execution_count": 15,
   "metadata": {},
   "outputs": [
    {
     "data": {
      "application/vnd.jupyter.widget-view+json": {
       "model_id": "5ddb2898756449bc966b0423acd24643",
       "version_major": 2,
       "version_minor": 0
      },
      "text/plain": [
       "Button(button_style='danger', description='Remove Last Class', icon='minus', style=ButtonStyle(), tooltip='Des…"
      ]
     },
     "metadata": {},
     "output_type": "display_data"
    }
   ],
   "source": [
    "del_btn = widgets.Button(\n",
    "    description='Remove Last Class',\n",
    "    disabled=False,\n",
    "    button_style='danger', # 'success', 'info', 'warning', 'danger' or ''\n",
    "    tooltip='Description',\n",
    "    icon='minus'\n",
    ")\n",
    "\n",
    "def del_last(b):\n",
    "\n",
    "\n",
    "    labels_widget.children = (*labels_widget.children[:-1], ) \n",
    "        \n",
    "del_btn.on_click(del_last)\n",
    "del_btn"
   ]
  },
  {
   "cell_type": "code",
   "execution_count": null,
   "metadata": {},
   "outputs": [],
   "source": [
    "load_btn = widgets.Button(\n",
    "    description='Load From File',\n",
    "    disabled=False,\n",
    "    button_style='', # 'success', 'info', 'warning', 'danger' or ''\n",
    "    tooltip='Description',\n",
    "    icon=''\n",
    ")\n",
    "\n",
    "def load(b):\n",
    "\n",
    "\n",
    "    labels_widget.children = (*labels_widget.children[:-1], ) \n",
    "        \n",
    "load_btn.on_click(del_last)\n",
    "del_btn"
   ]
  },
  {
   "cell_type": "code",
   "execution_count": 16,
   "metadata": {},
   "outputs": [],
   "source": [
    "labels_widget = widgets.VBox(items)"
   ]
  },
  {
   "cell_type": "code",
   "execution_count": 17,
   "metadata": {},
   "outputs": [],
   "source": [
    "controls = widgets.HBox([save_btn, add_btn, del_btn])\n",
    "label_editor = widgets.VBox([files_widget, labels_widget, controls])"
   ]
  },
  {
   "cell_type": "code",
   "execution_count": 18,
   "metadata": {},
   "outputs": [
    {
     "data": {
      "application/vnd.jupyter.widget-view+json": {
       "model_id": "ca5a9f05ffe441cc88a1a7d90ff611f3",
       "version_major": 2,
       "version_minor": 0
      },
      "text/plain": [
       "VBox(children=(HBox(children=(Text(value='C:\\\\projects\\\\dl_tools\\\\demo_data\\\\geotiff\\\\elwha\\\\labels.txt', desc…"
      ]
     },
     "metadata": {},
     "output_type": "display_data"
    }
   ],
   "source": [
    "label_editor"
   ]
  },
  {
   "cell_type": "code",
   "execution_count": null,
   "metadata": {},
   "outputs": [],
   "source": []
  }
 ],
 "metadata": {
  "kernelspec": {
   "display_name": "Python 3",
   "language": "python",
   "name": "python3"
  },
  "language_info": {
   "codemirror_mode": {
    "name": "ipython",
    "version": 3
   },
   "file_extension": ".py",
   "mimetype": "text/x-python",
   "name": "python",
   "nbconvert_exporter": "python",
   "pygments_lexer": "ipython3",
   "version": "3.6.6"
  }
 },
 "nbformat": 4,
 "nbformat_minor": 2
}
